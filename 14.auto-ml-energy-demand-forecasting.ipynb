{
 "cells": [
  {
   "cell_type": "markdown",
   "metadata": {},
   "source": [
    "Copyright (c) Microsoft Corporation. All rights reserved.\n",
    "\n",
    "Licensed under the MIT License."
   ]
  },
  {
   "cell_type": "markdown",
   "metadata": {},
   "source": [
    "# AutoML: Energy Demand Forecasting\n",
    "Time series forecasting is the task of predicting future values in a time-ordered sequence of observations. It is a common problem and has applications in many industries. For example, retail companies need to forecast future product sales so they can effectively organize their supply chains to meet demand. Similarly, package delivery companies need to estimate the demand for their services so they can plan workforce requirements and delivery routes ahead of time. In many cases, the financial risks of inaccurate forecasts can be significant. Therefore, forecasting is often a business critical activity.\n",
    "\n",
    "This sample shows how time series forecasting can be performed through AutoML package withing AzureML Services.\n",
    "\n",
    "Make sure you have executed the [00.configuration](00.configuration.ipynb) before running this notebook.\n",
    "\n",
    "In this notebook you would see\n",
    "1. Creating an Experiment in an existing Workspace\n",
    "2. Instantiating AutoMLConfig\n",
    "3. Training the Model using local compute\n",
    "4. Exploring the results\n",
    "5. Testing the fitted model\n"
   ]
  },
  {
   "cell_type": "markdown",
   "metadata": {},
   "source": [
    "## Create Experiment\n",
    "\n",
    "As part of the setup you have already created a <b>Workspace</b>. For AutoML you would need to create an <b>Experiment</b>. An <b>Experiment</b> is a named object in a <b>Workspace</b>, which is used to run experiments."
   ]
  },
  {
   "cell_type": "code",
   "execution_count": 1,
   "metadata": {},
   "outputs": [
    {
     "ename": "ModuleNotFoundError",
     "evalue": "No module named 'azureml.core.experiment'",
     "output_type": "error",
     "traceback": [
      "\u001b[1;31m---------------------------------------------------------------------------\u001b[0m",
      "\u001b[1;31mModuleNotFoundError\u001b[0m                       Traceback (most recent call last)",
      "\u001b[1;32m<ipython-input-1-c81c32239f0d>\u001b[0m in \u001b[0;36m<module>\u001b[1;34m()\u001b[0m\n\u001b[0;32m      3\u001b[0m \u001b[1;32mimport\u001b[0m \u001b[0mazureml\u001b[0m\u001b[1;33m.\u001b[0m\u001b[0mcore\u001b[0m\u001b[1;33m\u001b[0m\u001b[0m\n\u001b[0;32m      4\u001b[0m \u001b[1;32mfrom\u001b[0m \u001b[0mazureml\u001b[0m\u001b[1;33m.\u001b[0m\u001b[0mcore\u001b[0m\u001b[1;33m.\u001b[0m\u001b[0mworkspace\u001b[0m \u001b[1;32mimport\u001b[0m \u001b[0mWorkspace\u001b[0m\u001b[1;33m\u001b[0m\u001b[0m\n\u001b[1;32m----> 5\u001b[1;33m \u001b[1;32mfrom\u001b[0m \u001b[0mazureml\u001b[0m\u001b[1;33m.\u001b[0m\u001b[0mcore\u001b[0m\u001b[1;33m.\u001b[0m\u001b[0mexperiment\u001b[0m \u001b[1;32mimport\u001b[0m \u001b[0mExperiment\u001b[0m\u001b[1;33m\u001b[0m\u001b[0m\n\u001b[0m\u001b[0;32m      6\u001b[0m \u001b[1;32mfrom\u001b[0m \u001b[0mazureml\u001b[0m\u001b[1;33m.\u001b[0m\u001b[0mtrain\u001b[0m\u001b[1;33m.\u001b[0m\u001b[0mautoml\u001b[0m \u001b[1;32mimport\u001b[0m \u001b[0mAutoMLConfig\u001b[0m\u001b[1;33m\u001b[0m\u001b[0m\n\u001b[0;32m      7\u001b[0m \u001b[1;32mfrom\u001b[0m \u001b[0mazureml\u001b[0m\u001b[1;33m.\u001b[0m\u001b[0mtrain\u001b[0m\u001b[1;33m.\u001b[0m\u001b[0mautoml\u001b[0m\u001b[1;33m.\u001b[0m\u001b[0mrun\u001b[0m \u001b[1;32mimport\u001b[0m \u001b[0mAutoMLRun\u001b[0m\u001b[1;33m\u001b[0m\u001b[0m\n",
      "\u001b[1;31mModuleNotFoundError\u001b[0m: No module named 'azureml.core.experiment'"
     ]
    }
   ],
   "source": [
    "import azureml.core\n",
    "import pandas as pd\n",
    "import azureml.core\n",
    "from azureml.core.workspace import Workspace\n",
    "from azureml.core.experiment import Experiment\n",
    "from azureml.train.automl import AutoMLConfig\n",
    "from azureml.train.automl.run import AutoMLRun\n",
    "import time\n",
    "import logging\n",
    "import os\n",
    "from sklearn import datasets\n",
    "import seaborn as sns\n",
    "from matplotlib import pyplot as plt\n",
    "from matplotlib.pyplot import imshow\n",
    "import random\n",
    "import numpy as np\n",
    "from scipy import stats"
   ]
  },
  {
   "cell_type": "code",
   "execution_count": 2,
   "metadata": {},
   "outputs": [
    {
     "name": "stdout",
     "output_type": "stream",
     "text": [
      "Found the config file in: C:\\Users\\lazzeri\\Desktop\\MachineLearningNotebooks-master\\automl\\aml_config\\config.json\n"
     ]
    },
    {
     "data": {
      "text/html": [
       "<div>\n",
       "<style scoped>\n",
       "    .dataframe tbody tr th:only-of-type {\n",
       "        vertical-align: middle;\n",
       "    }\n",
       "\n",
       "    .dataframe tbody tr th {\n",
       "        vertical-align: top;\n",
       "    }\n",
       "\n",
       "    .dataframe thead th {\n",
       "        text-align: right;\n",
       "    }\n",
       "</style>\n",
       "<table border=\"1\" class=\"dataframe\">\n",
       "  <thead>\n",
       "    <tr style=\"text-align: right;\">\n",
       "      <th></th>\n",
       "      <th></th>\n",
       "    </tr>\n",
       "  </thead>\n",
       "  <tbody>\n",
       "    <tr>\n",
       "      <th>SDK version</th>\n",
       "      <td>0.1.4</td>\n",
       "    </tr>\n",
       "    <tr>\n",
       "      <th>Subscription ID</th>\n",
       "      <td>ff18d7a8-962a-406c-858f-49acd23d6c01</td>\n",
       "    </tr>\n",
       "    <tr>\n",
       "      <th>Workspace Name</th>\n",
       "      <td>myws</td>\n",
       "    </tr>\n",
       "    <tr>\n",
       "      <th>Resource Group</th>\n",
       "      <td>myrg</td>\n",
       "    </tr>\n",
       "    <tr>\n",
       "      <th>Location</th>\n",
       "      <td>eastus2</td>\n",
       "    </tr>\n",
       "    <tr>\n",
       "      <th>Project Directory</th>\n",
       "      <td>C:\\Users\\lazzeri\\Desktop\\MachineLearningNotebooks-master\\automl\\sample_projects\\automl-energydemandforecasting</td>\n",
       "    </tr>\n",
       "    <tr>\n",
       "      <th>Run History Name</th>\n",
       "      <td>automl-energydemandforecasting</td>\n",
       "    </tr>\n",
       "  </tbody>\n",
       "</table>\n",
       "</div>"
      ],
      "text/plain": [
       "                                                                                                                                 \n",
       "SDK version        0.1.4                                                                                                         \n",
       "Subscription ID    ff18d7a8-962a-406c-858f-49acd23d6c01                                                                          \n",
       "Workspace Name     myws                                                                                                          \n",
       "Resource Group     myrg                                                                                                          \n",
       "Location           eastus2                                                                                                       \n",
       "Project Directory  C:\\Users\\lazzeri\\Desktop\\MachineLearningNotebooks-master\\automl\\sample_projects\\automl-energydemandforecasting\n",
       "Run History Name   automl-energydemandforecasting                                                                                "
      ]
     },
     "execution_count": 2,
     "metadata": {},
     "output_type": "execute_result"
    }
   ],
   "source": [
    "ws = Workspace.from_config()\n",
    "\n",
    "# choose a name for the run history container in the workspace\n",
    "history_name = 'automl-energydemandforecasting'\n",
    "\n",
    "# project folder\n",
    "project_folder = './sample_projects/automl-energydemandforecasting'\n",
    "\n",
    "import os\n",
    "from azureml.core.project import Project\n",
    "\n",
    "project = Project.attach(ws,\n",
    "                         history_name,\n",
    "                         project_folder)\n",
    "\n",
    "output = {}\n",
    "output['SDK version'] = azureml.core.VERSION\n",
    "output['Subscription ID'] = ws.subscription_id\n",
    "output['Workspace Name'] = ws.name\n",
    "output['Resource Group'] = ws.resource_group\n",
    "output['Location'] = ws.location\n",
    "output['Project Directory'] = project.project_directory\n",
    "output['Run History Name'] = project.history.name\n",
    "pd.set_option('display.max_colwidth', -1)\n",
    "pd.DataFrame(data=output, index=['']).T"
   ]
  },
  {
   "cell_type": "markdown",
   "metadata": {},
   "source": [
    "### Update Conda Dependency file to have AutoML SDK\n",
    "\n",
    "Currently AutoML SDK is not installed with Azure ML SDK by default, Due to this we update the conda dependency file to add a dependency on AutoML SDK."
   ]
  },
  {
   "cell_type": "code",
   "execution_count": 3,
   "metadata": {},
   "outputs": [
    {
     "name": "stdout",
     "output_type": "stream",
     "text": [
      "Overwriting ./sample_projects/automl-energydemandforecasting/aml_config/conda_dependencies.yml\n"
     ]
    }
   ],
   "source": [
    "%%writefile $project_folder/aml_config/conda_dependencies.yml\n",
    "# Conda environment specification. The dependencies defined in this file will\n",
    "# be automatically provisioned for managed runs. These include runs against\n",
    "# the localdocker, remotedocker, and cluster compute targets.\n",
    "\n",
    "# Note that this file is NOT used to automatically manage dependencies for the\n",
    "# local compute target. To provision these dependencies locally, run:\n",
    "# conda env update --file conda_dependencies.yml\n",
    "\n",
    "# Details about the Conda environment file format:\n",
    "# https://conda.io/docs/using/envs.html#create-environment-file-by-hand\n",
    "\n",
    "# For managing Spark packages and configuration, see spark_dependencies.yml.\n",
    "\n",
    "# Version of this configuration file's structure and semantics in AzureML.\n",
    "# This directive is stored in a comment to preserve the Conda file structure.\n",
    "# [AzureMlVersion] = 2\n",
    "\n",
    "name: project_environment\n",
    "dependencies:\n",
    "  # The python interpreter version.\n",
    "  # Currently Azure ML Workbench only supports 3.5.2 and later.\n",
    "  - python=3.6.2\n",
    "  # Required by azureml-requirements, installed separately through Conda to\n",
    "  # get a prebuilt version and not require build tools for the install.\n",
    "  - psutil=5.4.5\n",
    "  - numpy\n",
    "\n",
    "  - pip:\n",
    "    # Required packages for AzureML execution, history, and data preparation.\n",
    "    - --index-url https://azuremlsdktestpypi.azureedge.net/sdk-release/Preview/E7501C02541B433786111FE8E140CAA1\n",
    "    - --extra-index-url https://pypi.python.org/simple\n",
    "    - azureml-sdk\n",
    "    - azureml-train-automl"
   ]
  },
  {
   "cell_type": "markdown",
   "metadata": {},
   "source": [
    "## Create Get Data File\n",
    "For remote executions you should author a get_data.py file containing a get_data() function. This file should be in the root directory of the project. You can encapsulate code to read data either from a blob storage or local disk in this file.\n",
    "\n",
    "The *get_data()* function returns a [dictionary](README.md#getdata)."
   ]
  },
  {
   "cell_type": "code",
   "execution_count": 4,
   "metadata": {},
   "outputs": [
    {
     "name": "stdout",
     "output_type": "stream",
     "text": [
      "Writing ./sample_projects/automl-energydemandforecasting/get_data.py\n"
     ]
    }
   ],
   "source": [
    "%%writefile $project_folder/get_data.py\n",
    "\n",
    "import pandas as pd\n",
    "from sklearn.model_selection import train_test_split\n",
    "from sklearn.preprocessing import LabelEncoder\n",
    "\n",
    "def get_data():\n",
    "    \n",
    "    demand = pd.read_csv(\"https://antaignitedata.blob.core.windows.net/antaignitedata/nyc_demand.csv\", parse_dates=['timeStamp'])\n",
    "    weather = pd.read_csv(\"https://antaignitedata.blob.core.windows.net/antaignitedata/nyc_weather.csv\", parse_dates=['timeStamp'])\n",
    "    df = pd.merge(demand, weather, on=['timeStamp'], how='outer')\n",
    "     \n",
    "    return { \"X\" : df }"
   ]
  },
  {
   "cell_type": "markdown",
   "metadata": {},
   "source": [
    "### View data\n",
    "\n",
    "You can execute the *get_data()* function locally to view the *energy* data"
   ]
  },
  {
   "cell_type": "code",
   "execution_count": 5,
   "metadata": {},
   "outputs": [
    {
     "data": {
      "text/html": [
       "<div>\n",
       "<style scoped>\n",
       "    .dataframe tbody tr th:only-of-type {\n",
       "        vertical-align: middle;\n",
       "    }\n",
       "\n",
       "    .dataframe tbody tr th {\n",
       "        vertical-align: top;\n",
       "    }\n",
       "\n",
       "    .dataframe thead th {\n",
       "        text-align: right;\n",
       "    }\n",
       "</style>\n",
       "<table border=\"1\" class=\"dataframe\">\n",
       "  <thead>\n",
       "    <tr style=\"text-align: right;\">\n",
       "      <th></th>\n",
       "      <th>timeStamp</th>\n",
       "      <th>demand</th>\n",
       "      <th>precip</th>\n",
       "      <th>temp</th>\n",
       "    </tr>\n",
       "  </thead>\n",
       "  <tbody>\n",
       "    <tr>\n",
       "      <th>0</th>\n",
       "      <td>2012-01-01 00:00:00</td>\n",
       "      <td>4937.5</td>\n",
       "      <td>0.0</td>\n",
       "      <td>46.13</td>\n",
       "    </tr>\n",
       "    <tr>\n",
       "      <th>1</th>\n",
       "      <td>2012-01-01 01:00:00</td>\n",
       "      <td>4752.1</td>\n",
       "      <td>0.0</td>\n",
       "      <td>45.89</td>\n",
       "    </tr>\n",
       "    <tr>\n",
       "      <th>2</th>\n",
       "      <td>2012-01-01 02:00:00</td>\n",
       "      <td>4542.6</td>\n",
       "      <td>0.0</td>\n",
       "      <td>45.04</td>\n",
       "    </tr>\n",
       "    <tr>\n",
       "      <th>3</th>\n",
       "      <td>2012-01-01 03:00:00</td>\n",
       "      <td>4357.7</td>\n",
       "      <td>0.0</td>\n",
       "      <td>45.03</td>\n",
       "    </tr>\n",
       "    <tr>\n",
       "      <th>4</th>\n",
       "      <td>2012-01-01 04:00:00</td>\n",
       "      <td>4275.5</td>\n",
       "      <td>0.0</td>\n",
       "      <td>42.61</td>\n",
       "    </tr>\n",
       "  </tbody>\n",
       "</table>\n",
       "</div>"
      ],
      "text/plain": [
       "            timeStamp  demand  precip   temp\n",
       "0 2012-01-01 00:00:00  4937.5  0.0     46.13\n",
       "1 2012-01-01 01:00:00  4752.1  0.0     45.89\n",
       "2 2012-01-01 02:00:00  4542.6  0.0     45.04\n",
       "3 2012-01-01 03:00:00  4357.7  0.0     45.03\n",
       "4 2012-01-01 04:00:00  4275.5  0.0     42.61"
      ]
     },
     "execution_count": 5,
     "metadata": {},
     "output_type": "execute_result"
    }
   ],
   "source": [
    "%run  $project_folder/get_data.py\n",
    "data_dict = get_data()\n",
    "df = data_dict[\"X\"]\n",
    "df.head()"
   ]
  },
  {
   "cell_type": "markdown",
   "metadata": {},
   "source": [
    "## Fill gaps in the time series\n",
    "Some periods in the time series are missing. This occurs if the period was missing in both the original demand and weather datasets. To identify these gaps, first we create an index of time periods that we would expect to be in the time series. There should be one record for every hour between the minimum and maximum datetimes in our dataset."
   ]
  },
  {
   "cell_type": "code",
   "execution_count": 6,
   "metadata": {},
   "outputs": [
    {
     "data": {
      "text/plain": [
       "Timestamp('2012-01-01 00:00:00')"
      ]
     },
     "execution_count": 6,
     "metadata": {},
     "output_type": "execute_result"
    }
   ],
   "source": [
    "min_time = min(df['timeStamp'])\n",
    "min_time"
   ]
  },
  {
   "cell_type": "code",
   "execution_count": 7,
   "metadata": {},
   "outputs": [
    {
     "data": {
      "text/plain": [
       "Timestamp('2017-08-12 06:00:00')"
      ]
     },
     "execution_count": 7,
     "metadata": {},
     "output_type": "execute_result"
    }
   ],
   "source": [
    "max_time = max(df['timeStamp'])\n",
    "max_time"
   ]
  },
  {
   "cell_type": "code",
   "execution_count": 8,
   "metadata": {},
   "outputs": [
    {
     "data": {
      "text/plain": [
       "DatetimeIndex(['2012-01-01 00:00:00', '2012-01-01 01:00:00',\n",
       "               '2012-01-01 02:00:00', '2012-01-01 03:00:00',\n",
       "               '2012-01-01 04:00:00', '2012-01-01 05:00:00',\n",
       "               '2012-01-01 06:00:00', '2012-01-01 07:00:00',\n",
       "               '2012-01-01 08:00:00', '2012-01-01 09:00:00',\n",
       "               ...\n",
       "               '2017-08-11 21:00:00', '2017-08-11 22:00:00',\n",
       "               '2017-08-11 23:00:00', '2017-08-12 00:00:00',\n",
       "               '2017-08-12 01:00:00', '2017-08-12 02:00:00',\n",
       "               '2017-08-12 03:00:00', '2017-08-12 04:00:00',\n",
       "               '2017-08-12 05:00:00', '2017-08-12 06:00:00'],\n",
       "              dtype='datetime64[ns]', length=49207, freq='H')"
      ]
     },
     "execution_count": 8,
     "metadata": {},
     "output_type": "execute_result"
    }
   ],
   "source": [
    "dt_idx = pd.date_range(min_time, max_time, freq='H')\n",
    "dt_idx"
   ]
  },
  {
   "cell_type": "markdown",
   "metadata": {},
   "source": [
    "Now we index the dataframe according to this datetime index to insert missing records into the time series:"
   ]
  },
  {
   "cell_type": "code",
   "execution_count": 9,
   "metadata": {},
   "outputs": [
    {
     "data": {
      "text/html": [
       "<div>\n",
       "<style scoped>\n",
       "    .dataframe tbody tr th:only-of-type {\n",
       "        vertical-align: middle;\n",
       "    }\n",
       "\n",
       "    .dataframe tbody tr th {\n",
       "        vertical-align: top;\n",
       "    }\n",
       "\n",
       "    .dataframe thead th {\n",
       "        text-align: right;\n",
       "    }\n",
       "</style>\n",
       "<table border=\"1\" class=\"dataframe\">\n",
       "  <thead>\n",
       "    <tr style=\"text-align: right;\">\n",
       "      <th></th>\n",
       "      <th>timeStamp</th>\n",
       "      <th>demand</th>\n",
       "      <th>precip</th>\n",
       "      <th>temp</th>\n",
       "    </tr>\n",
       "  </thead>\n",
       "  <tbody>\n",
       "    <tr>\n",
       "      <th>2016-03-13 02:00:00</th>\n",
       "      <td>NaT</td>\n",
       "      <td>NaN</td>\n",
       "      <td>NaN</td>\n",
       "      <td>NaN</td>\n",
       "    </tr>\n",
       "    <tr>\n",
       "      <th>2017-03-12 02:00:00</th>\n",
       "      <td>NaT</td>\n",
       "      <td>NaN</td>\n",
       "      <td>NaN</td>\n",
       "      <td>NaN</td>\n",
       "    </tr>\n",
       "  </tbody>\n",
       "</table>\n",
       "</div>"
      ],
      "text/plain": [
       "                    timeStamp  demand  precip  temp\n",
       "2016-03-13 02:00:00 NaT       NaN     NaN     NaN  \n",
       "2017-03-12 02:00:00 NaT       NaN     NaN     NaN  "
      ]
     },
     "execution_count": 9,
     "metadata": {},
     "output_type": "execute_result"
    }
   ],
   "source": [
    "df.index = df['timeStamp']\n",
    "df = df.reindex(dt_idx)\n",
    "\n",
    "df[df.isnull().all(axis=1)]"
   ]
  },
  {
   "cell_type": "markdown",
   "metadata": {},
   "source": [
    "Now that there are no missing periods in the time series, we can start handling missing values by filling as many as possible. Firstly, count the number of missing values in each column:"
   ]
  },
  {
   "cell_type": "code",
   "execution_count": 10,
   "metadata": {},
   "outputs": [
    {
     "data": {
      "text/plain": [
       "timeStamp    2  \n",
       "demand       83 \n",
       "precip       232\n",
       "temp         188\n",
       "dtype: int64"
      ]
     },
     "execution_count": 10,
     "metadata": {},
     "output_type": "execute_result"
    }
   ],
   "source": [
    "df.isnull().sum()"
   ]
  },
  {
   "cell_type": "markdown",
   "metadata": {},
   "source": [
    "Missing timeStamp can be filled from the dataframe index:\n",
    "\n"
   ]
  },
  {
   "cell_type": "code",
   "execution_count": 11,
   "metadata": {},
   "outputs": [],
   "source": [
    "df.loc[df.isnull().all(axis=1), 'timeStamp'] = df.loc[df.isnull().all(axis=1)].index"
   ]
  },
  {
   "cell_type": "markdown",
   "metadata": {},
   "source": [
    "For the other columns, we can fill many missing values by interpolating between the two closest non-missing values. Here, we use a quadratic function and set a limit of 6. This limit means that if more than 6 missing values occur consecutively, the missing values are not interpolated over and they remain missing. This is to avoid spurious interpolation between very distant time periods."
   ]
  },
  {
   "cell_type": "code",
   "execution_count": 12,
   "metadata": {},
   "outputs": [],
   "source": [
    "df = df.interpolate(limit=6, method='linear')"
   ]
  },
  {
   "cell_type": "markdown",
   "metadata": {},
   "source": [
    "Fill missing precip values with common value of 0:"
   ]
  },
  {
   "cell_type": "code",
   "execution_count": 13,
   "metadata": {},
   "outputs": [],
   "source": [
    "precip_mode = np.asscalar(stats.mode(df['precip']).mode)\n",
    "df['precip'] = df['precip'].fillna(precip_mode)"
   ]
  },
  {
   "cell_type": "code",
   "execution_count": 14,
   "metadata": {},
   "outputs": [
    {
     "data": {
      "text/plain": [
       "timeStamp    0 \n",
       "demand       43\n",
       "precip       0 \n",
       "temp         86\n",
       "dtype: int64"
      ]
     },
     "execution_count": 14,
     "metadata": {},
     "output_type": "execute_result"
    }
   ],
   "source": [
    "df.isnull().sum()"
   ]
  },
  {
   "cell_type": "markdown",
   "metadata": {},
   "source": [
    "The number of missing values has now been greatly reduced. Records containing the remaining missing values will be removed later after model features have been created."
   ]
  },
  {
   "cell_type": "markdown",
   "metadata": {},
   "source": [
    "## Compute features for forecasting models\n",
    "After exploring the data, it is clear that the energy demand follows seasonal trends, with daily, weekly and annual periodicity. We will create features that encode this information. First, we compute time driven features based on timeStamp. Note for dayofweek, Monday=0 and Sunday=6."
   ]
  },
  {
   "cell_type": "code",
   "execution_count": 15,
   "metadata": {},
   "outputs": [],
   "source": [
    "df_features = df.copy()"
   ]
  },
  {
   "cell_type": "code",
   "execution_count": 16,
   "metadata": {},
   "outputs": [],
   "source": [
    "df_features['hour'] = df_features.timeStamp.dt.hour\n",
    "df_features['month'] = df_features.timeStamp.dt.month-1\n",
    "df_features['dayofweek'] = df_features.timeStamp.dt.dayofweek"
   ]
  },
  {
   "cell_type": "markdown",
   "metadata": {},
   "source": [
    "Compute lagged demand features"
   ]
  },
  {
   "cell_type": "code",
   "execution_count": 17,
   "metadata": {},
   "outputs": [],
   "source": [
    "def generate_lagged_features(df, var, max_lag):\n",
    "    for t in range(1, max_lag+1):\n",
    "        df[var+'_lag'+str(t)] = df[var].shift(t, freq='1H')"
   ]
  },
  {
   "cell_type": "code",
   "execution_count": 18,
   "metadata": {},
   "outputs": [],
   "source": [
    "generate_lagged_features(df_features, 'temp', 6)\n",
    "generate_lagged_features(df_features, 'demand', 6)"
   ]
  },
  {
   "cell_type": "code",
   "execution_count": 19,
   "metadata": {},
   "outputs": [
    {
     "data": {
      "text/html": [
       "<div>\n",
       "<style scoped>\n",
       "    .dataframe tbody tr th:only-of-type {\n",
       "        vertical-align: middle;\n",
       "    }\n",
       "\n",
       "    .dataframe tbody tr th {\n",
       "        vertical-align: top;\n",
       "    }\n",
       "\n",
       "    .dataframe thead th {\n",
       "        text-align: right;\n",
       "    }\n",
       "</style>\n",
       "<table border=\"1\" class=\"dataframe\">\n",
       "  <thead>\n",
       "    <tr style=\"text-align: right;\">\n",
       "      <th></th>\n",
       "      <th>timeStamp</th>\n",
       "      <th>demand</th>\n",
       "      <th>precip</th>\n",
       "      <th>temp</th>\n",
       "      <th>hour</th>\n",
       "      <th>month</th>\n",
       "      <th>dayofweek</th>\n",
       "      <th>temp_lag1</th>\n",
       "      <th>temp_lag2</th>\n",
       "      <th>temp_lag3</th>\n",
       "      <th>temp_lag4</th>\n",
       "      <th>temp_lag5</th>\n",
       "      <th>temp_lag6</th>\n",
       "      <th>demand_lag1</th>\n",
       "      <th>demand_lag2</th>\n",
       "      <th>demand_lag3</th>\n",
       "      <th>demand_lag4</th>\n",
       "      <th>demand_lag5</th>\n",
       "      <th>demand_lag6</th>\n",
       "    </tr>\n",
       "  </thead>\n",
       "  <tbody>\n",
       "    <tr>\n",
       "      <th>2012-01-01 00:00:00</th>\n",
       "      <td>2012-01-01 00:00:00</td>\n",
       "      <td>4937.5</td>\n",
       "      <td>0.0</td>\n",
       "      <td>46.13</td>\n",
       "      <td>0</td>\n",
       "      <td>0</td>\n",
       "      <td>6</td>\n",
       "      <td>NaN</td>\n",
       "      <td>NaN</td>\n",
       "      <td>NaN</td>\n",
       "      <td>NaN</td>\n",
       "      <td>NaN</td>\n",
       "      <td>NaN</td>\n",
       "      <td>NaN</td>\n",
       "      <td>NaN</td>\n",
       "      <td>NaN</td>\n",
       "      <td>NaN</td>\n",
       "      <td>NaN</td>\n",
       "      <td>NaN</td>\n",
       "    </tr>\n",
       "    <tr>\n",
       "      <th>2012-01-01 01:00:00</th>\n",
       "      <td>2012-01-01 01:00:00</td>\n",
       "      <td>4752.1</td>\n",
       "      <td>0.0</td>\n",
       "      <td>45.89</td>\n",
       "      <td>1</td>\n",
       "      <td>0</td>\n",
       "      <td>6</td>\n",
       "      <td>46.13</td>\n",
       "      <td>NaN</td>\n",
       "      <td>NaN</td>\n",
       "      <td>NaN</td>\n",
       "      <td>NaN</td>\n",
       "      <td>NaN</td>\n",
       "      <td>4937.5</td>\n",
       "      <td>NaN</td>\n",
       "      <td>NaN</td>\n",
       "      <td>NaN</td>\n",
       "      <td>NaN</td>\n",
       "      <td>NaN</td>\n",
       "    </tr>\n",
       "    <tr>\n",
       "      <th>2012-01-01 02:00:00</th>\n",
       "      <td>2012-01-01 02:00:00</td>\n",
       "      <td>4542.6</td>\n",
       "      <td>0.0</td>\n",
       "      <td>45.04</td>\n",
       "      <td>2</td>\n",
       "      <td>0</td>\n",
       "      <td>6</td>\n",
       "      <td>45.89</td>\n",
       "      <td>46.13</td>\n",
       "      <td>NaN</td>\n",
       "      <td>NaN</td>\n",
       "      <td>NaN</td>\n",
       "      <td>NaN</td>\n",
       "      <td>4752.1</td>\n",
       "      <td>4937.5</td>\n",
       "      <td>NaN</td>\n",
       "      <td>NaN</td>\n",
       "      <td>NaN</td>\n",
       "      <td>NaN</td>\n",
       "    </tr>\n",
       "    <tr>\n",
       "      <th>2012-01-01 03:00:00</th>\n",
       "      <td>2012-01-01 03:00:00</td>\n",
       "      <td>4357.7</td>\n",
       "      <td>0.0</td>\n",
       "      <td>45.03</td>\n",
       "      <td>3</td>\n",
       "      <td>0</td>\n",
       "      <td>6</td>\n",
       "      <td>45.04</td>\n",
       "      <td>45.89</td>\n",
       "      <td>46.13</td>\n",
       "      <td>NaN</td>\n",
       "      <td>NaN</td>\n",
       "      <td>NaN</td>\n",
       "      <td>4542.6</td>\n",
       "      <td>4752.1</td>\n",
       "      <td>4937.5</td>\n",
       "      <td>NaN</td>\n",
       "      <td>NaN</td>\n",
       "      <td>NaN</td>\n",
       "    </tr>\n",
       "    <tr>\n",
       "      <th>2012-01-01 04:00:00</th>\n",
       "      <td>2012-01-01 04:00:00</td>\n",
       "      <td>4275.5</td>\n",
       "      <td>0.0</td>\n",
       "      <td>42.61</td>\n",
       "      <td>4</td>\n",
       "      <td>0</td>\n",
       "      <td>6</td>\n",
       "      <td>45.03</td>\n",
       "      <td>45.04</td>\n",
       "      <td>45.89</td>\n",
       "      <td>46.13</td>\n",
       "      <td>NaN</td>\n",
       "      <td>NaN</td>\n",
       "      <td>4357.7</td>\n",
       "      <td>4542.6</td>\n",
       "      <td>4752.1</td>\n",
       "      <td>4937.5</td>\n",
       "      <td>NaN</td>\n",
       "      <td>NaN</td>\n",
       "    </tr>\n",
       "  </tbody>\n",
       "</table>\n",
       "</div>"
      ],
      "text/plain": [
       "                              timeStamp  demand  precip   temp  hour  month  \\\n",
       "2012-01-01 00:00:00 2012-01-01 00:00:00  4937.5  0.0     46.13  0     0       \n",
       "2012-01-01 01:00:00 2012-01-01 01:00:00  4752.1  0.0     45.89  1     0       \n",
       "2012-01-01 02:00:00 2012-01-01 02:00:00  4542.6  0.0     45.04  2     0       \n",
       "2012-01-01 03:00:00 2012-01-01 03:00:00  4357.7  0.0     45.03  3     0       \n",
       "2012-01-01 04:00:00 2012-01-01 04:00:00  4275.5  0.0     42.61  4     0       \n",
       "\n",
       "                     dayofweek  temp_lag1  temp_lag2  temp_lag3  temp_lag4  \\\n",
       "2012-01-01 00:00:00  6         NaN        NaN        NaN        NaN          \n",
       "2012-01-01 01:00:00  6          46.13     NaN        NaN        NaN          \n",
       "2012-01-01 02:00:00  6          45.89      46.13     NaN        NaN          \n",
       "2012-01-01 03:00:00  6          45.04      45.89      46.13     NaN          \n",
       "2012-01-01 04:00:00  6          45.03      45.04      45.89      46.13       \n",
       "\n",
       "                     temp_lag5  temp_lag6  demand_lag1  demand_lag2  \\\n",
       "2012-01-01 00:00:00 NaN        NaN        NaN          NaN            \n",
       "2012-01-01 01:00:00 NaN        NaN         4937.5      NaN            \n",
       "2012-01-01 02:00:00 NaN        NaN         4752.1       4937.5        \n",
       "2012-01-01 03:00:00 NaN        NaN         4542.6       4752.1        \n",
       "2012-01-01 04:00:00 NaN        NaN         4357.7       4542.6        \n",
       "\n",
       "                     demand_lag3  demand_lag4  demand_lag5  demand_lag6  \n",
       "2012-01-01 00:00:00 NaN          NaN          NaN          NaN           \n",
       "2012-01-01 01:00:00 NaN          NaN          NaN          NaN           \n",
       "2012-01-01 02:00:00 NaN          NaN          NaN          NaN           \n",
       "2012-01-01 03:00:00  4937.5      NaN          NaN          NaN           \n",
       "2012-01-01 04:00:00  4752.1       4937.5      NaN          NaN           "
      ]
     },
     "execution_count": 19,
     "metadata": {},
     "output_type": "execute_result"
    }
   ],
   "source": [
    "df_features.head()"
   ]
  },
  {
   "cell_type": "markdown",
   "metadata": {},
   "source": [
    "## Final data cleaning and write out training and test datasets\n",
    "Count remaining null values."
   ]
  },
  {
   "cell_type": "code",
   "execution_count": 20,
   "metadata": {},
   "outputs": [
    {
     "data": {
      "text/plain": [
       "timeStamp      0 \n",
       "demand         43\n",
       "precip         0 \n",
       "temp           86\n",
       "hour           0 \n",
       "month          0 \n",
       "dayofweek      0 \n",
       "temp_lag1      87\n",
       "temp_lag2      88\n",
       "temp_lag3      89\n",
       "temp_lag4      90\n",
       "temp_lag5      91\n",
       "temp_lag6      92\n",
       "demand_lag1    43\n",
       "demand_lag2    43\n",
       "demand_lag3    43\n",
       "demand_lag4    43\n",
       "demand_lag5    43\n",
       "demand_lag6    43\n",
       "dtype: int64"
      ]
     },
     "execution_count": 20,
     "metadata": {},
     "output_type": "execute_result"
    }
   ],
   "source": [
    "df_features.isnull().sum()"
   ]
  },
  {
   "cell_type": "markdown",
   "metadata": {},
   "source": [
    "Count number of rows with any null values"
   ]
  },
  {
   "cell_type": "code",
   "execution_count": 21,
   "metadata": {},
   "outputs": [
    {
     "data": {
      "text/plain": [
       "153"
      ]
     },
     "execution_count": 21,
     "metadata": {},
     "output_type": "execute_result"
    }
   ],
   "source": [
    "df_features.loc[df_features.isnull().any(axis=1), ].shape[0]"
   ]
  },
  {
   "cell_type": "markdown",
   "metadata": {},
   "source": [
    "This is a very small proportion of the overall dataset so can be safely dropped."
   ]
  },
  {
   "cell_type": "code",
   "execution_count": 22,
   "metadata": {},
   "outputs": [],
   "source": [
    "df_features.dropna(how='any', inplace=True)"
   ]
  },
  {
   "cell_type": "markdown",
   "metadata": {},
   "source": [
    "Split data into training and test datasets. All data after 1st July 2016 is reserved for the test set."
   ]
  },
  {
   "cell_type": "code",
   "execution_count": 23,
   "metadata": {},
   "outputs": [],
   "source": [
    "train, test = (df_features.loc[df_features['timeStamp']<'2016-07-01'], df_features.loc[df_features['timeStamp']>='2016-07-01'])"
   ]
  },
  {
   "cell_type": "markdown",
   "metadata": {},
   "source": [
    "## Instantiate Auto ML Regressor\n",
    "\n",
    "Instantiate a AutoML Object This creates an Experiment in Azure ML. You can reuse this objects to trigger multiple runs. Each run will be part of the same experiment.\n",
    "\n",
    "|Property|Description|\n",
    "|-|-|\n",
    "|**primary_metric**|This is the metric that you want to optimize.<br> Auto ML Regressor supports the following primary metrics <br><i>spearman_correlation</i><br><i>normalized_root_mean_squared_error</i><br><i>r2_score</i>|\n",
    "|**max_time_sec**|Time limit in seconds for each iterations|\n",
    "|**iterations**|Number of iterations. In each iteration Auto ML Classifier trains the data with a specific pipeline|\n",
    "|**n_cross_validations**|Number of cross validation splits|"
   ]
  },
  {
   "cell_type": "code",
   "execution_count": 24,
   "metadata": {},
   "outputs": [],
   "source": [
    "from azureml.train.automl import AutoMLRegressor\n",
    "import time\n",
    "import logging\n",
    "\n",
    "automl_regressor = AutoMLRegressor(project = project,\n",
    "                                   name = \"AutoML_Demo_Experiment_v3\",\n",
    "                                   max_time_sec = 600,\n",
    "                                   iterations = 10,\n",
    "                                   primary_metric = 'normalized_root_mean_squared_error', \n",
    "                                   n_cross_validations = 5,\n",
    "                                   debug_log = 'automl.log',\n",
    "                                   verbosity = logging.INFO)"
   ]
  },
  {
   "cell_type": "code",
   "execution_count": 25,
   "metadata": {},
   "outputs": [
    {
     "data": {
      "text/plain": [
       "numpy.ndarray"
      ]
     },
     "execution_count": 25,
     "metadata": {},
     "output_type": "execute_result"
    }
   ],
   "source": [
    "X = train.drop(['demand', 'timeStamp'], axis=1)\n",
    "X.head()\n",
    "type(X)\n",
    "y = train['demand']\n",
    "y = y.values\n",
    "type(y)\n",
    "#X = X.values\n",
    "type(y)"
   ]
  },
  {
   "cell_type": "markdown",
   "metadata": {},
   "source": [
    "## Training the Model\n",
    "\n",
    "You can call the fit method on the AutoML instance and pass the run configuration. For Local runs the execution is synchronous. Depending on the data and number of iterations this can run for while.\n",
    "You will see the currently running iterations printing to the console.\n",
    "\n",
    "*fit* method on Auto ML Regressor triggers the training of the model. It can be called with the following parameters\n",
    "\n",
    "|**Parameter**|**Description**|\n",
    "|-|-|\n",
    "|**X**|(sparse) array-like, shape = [n_samples, n_features]|\n",
    "|**y**|(sparse) array-like, shape = [n_samples, ], [n_samples, n_classes]<br>Multi-class targets. An indicator matrix turns on multilabel classification.|\n",
    "|**compute_target**|Indicates the compute used for training. <i>local</i> indicates train on the same compute which hosts the jupyter notebook. <br>For DSVM and Batch AI please refer to the relevant notebooks.|\n",
    "|**show_output**| True/False to turn on/off console output|"
   ]
  },
  {
   "cell_type": "code",
   "execution_count": 26,
   "metadata": {},
   "outputs": [
    {
     "name": "stdout",
     "output_type": "stream",
     "text": [
      "Running locally\n",
      "Parent Run ID: AutoML_eeecbb34-59f9-4e58-a757-6897e2d6666e\n",
      "***********************************************************************************************\n",
      "ITERATION: The iteration being evaluated.\n",
      "PIPELINE:  A summary description of the pipeline being evaluated.\n",
      "DURATION: Time taken for the current iteration.\n",
      "METRIC: The result of computing score on the fitted pipeline.\n",
      "BEST: The best observed score thus far.\n",
      "***********************************************************************************************\n",
      "\n",
      " ITERATION     PIPELINE                               DURATION                METRIC      BEST\n",
      "         0      Normalize RF regressor                0:00:09.988100           0.050     0.050\n",
      "         1      Normalize lightGBM regressor          0:00:14.730993           0.010     0.010\n",
      "         2      Robust Scaler extra trees regressor   0:00:20.434624           0.021     0.010\n",
      "         3      Scale 0/1 Lasso lars                  0:00:08.538191           0.010     0.010\n",
      "         4      Normalize lightGBM regressor          0:00:11.922587           0.008     0.008\n",
      "         5      Normalize lightGBM regressor          0:00:19.237972           0.006     0.006\n",
      "         6      Normalizer Elastic net                0:00:08.036231           0.139     0.006\n",
      "         7      Robust Scaler DT regressor            0:00:08.702193           0.043     0.006\n",
      "         8      Robust Scaler DT regressor            0:00:08.811703           0.021     0.006\n",
      "         9      Robust Scaler lightGBM regressor      0:05:14.171169           0.023     0.006\n"
     ]
    }
   ],
   "source": [
    "local_run = automl_regressor.fit( X = X, \n",
    "                                  y = y, \n",
    "                                  compute_target = 'local', \n",
    "                                  show_output = True ) "
   ]
  },
  {
   "cell_type": "markdown",
   "metadata": {},
   "source": [
    "## Exploring the results"
   ]
  },
  {
   "cell_type": "markdown",
   "metadata": {},
   "source": [
    "#### Widget for monitoring runs\n",
    "\n",
    "The widget will sit on \"loading\" until the first iteration completed, then you will see an auto-updating graph and table show up. It refreshed once per minute, so you should see the graph update as child runs complete.\n",
    "\n",
    "NOTE: The widget displays a link at the bottom. This links to a web-ui to explore the individual run details."
   ]
  },
  {
   "cell_type": "code",
   "execution_count": 27,
   "metadata": {},
   "outputs": [
    {
     "data": {
      "application/vnd.jupyter.widget-view+json": {
       "model_id": "be4cc19f50e14d6997ce57722a2d2d2e",
       "version_major": 2,
       "version_minor": 0
      },
      "text/plain": [
       "AutoML(widget_settings={'childWidgetDisplay': 'popup'})"
      ]
     },
     "metadata": {},
     "output_type": "display_data"
    }
   ],
   "source": [
    "from azureml.train.widgets import RunDetails\n",
    "RunDetails(local_run).show() "
   ]
  },
  {
   "cell_type": "markdown",
   "metadata": {},
   "source": [
    "\n",
    "#### Retrieve All Child Runs\n",
    "You can also use sdk methods to fetch all the child runs and see individual metrics that we log. "
   ]
  },
  {
   "cell_type": "code",
   "execution_count": 28,
   "metadata": {
    "scrolled": false
   },
   "outputs": [
    {
     "data": {
      "text/html": [
       "<style  type=\"text/css\" >\n",
       "    #T_ed88c942_b153_11e8_ab05_40a3cc1ced18row0_col0 {\n",
       "            background-color:  #e9fce9;\n",
       "        }    #T_ed88c942_b153_11e8_ab05_40a3cc1ced18row0_col1 {\n",
       "            background-color:  #e8fce8;\n",
       "        }    #T_ed88c942_b153_11e8_ab05_40a3cc1ced18row0_col2 {\n",
       "            background-color:  #e9fce9;\n",
       "        }    #T_ed88c942_b153_11e8_ab05_40a3cc1ced18row0_col3 {\n",
       "            background-color:  #e8fce8;\n",
       "        }    #T_ed88c942_b153_11e8_ab05_40a3cc1ced18row0_col4 {\n",
       "            background-color:  #e8fbe8;\n",
       "        }    #T_ed88c942_b153_11e8_ab05_40a3cc1ced18row0_col5 {\n",
       "            background-color:  #e7fbe7;\n",
       "        }    #T_ed88c942_b153_11e8_ab05_40a3cc1ced18row0_col6 {\n",
       "            background-color:  #e9fce9;\n",
       "        }    #T_ed88c942_b153_11e8_ab05_40a3cc1ced18row0_col7 {\n",
       "            background-color:  #e9fce9;\n",
       "        }    #T_ed88c942_b153_11e8_ab05_40a3cc1ced18row0_col8 {\n",
       "            background-color:  #e9fce9;\n",
       "        }    #T_ed88c942_b153_11e8_ab05_40a3cc1ced18row0_col9 {\n",
       "            background-color:  #e9fce9;\n",
       "        }    #T_ed88c942_b153_11e8_ab05_40a3cc1ced18row1_col0 {\n",
       "            background-color:  #a3f1a3;\n",
       "        }    #T_ed88c942_b153_11e8_ab05_40a3cc1ced18row1_col1 {\n",
       "            background-color:  #b0f3b0;\n",
       "        }    #T_ed88c942_b153_11e8_ab05_40a3cc1ced18row1_col2 {\n",
       "            background-color:  #adf2ad;\n",
       "        }    #T_ed88c942_b153_11e8_ab05_40a3cc1ced18row1_col3 {\n",
       "            background-color:  #a9f2a9;\n",
       "        }    #T_ed88c942_b153_11e8_ab05_40a3cc1ced18row1_col4 {\n",
       "            background-color:  #aaf2aa;\n",
       "        }    #T_ed88c942_b153_11e8_ab05_40a3cc1ced18row1_col5 {\n",
       "            background-color:  #adf2ad;\n",
       "        }    #T_ed88c942_b153_11e8_ab05_40a3cc1ced18row1_col6 {\n",
       "            background-color:  #a5f1a5;\n",
       "        }    #T_ed88c942_b153_11e8_ab05_40a3cc1ced18row1_col7 {\n",
       "            background-color:  #aaf2aa;\n",
       "        }    #T_ed88c942_b153_11e8_ab05_40a3cc1ced18row1_col8 {\n",
       "            background-color:  #a9f2a9;\n",
       "        }    #T_ed88c942_b153_11e8_ab05_40a3cc1ced18row1_col9 {\n",
       "            background-color:  #95ef95;\n",
       "        }    #T_ed88c942_b153_11e8_ab05_40a3cc1ced18row2_col0 {\n",
       "            background-color:  #aef3ae;\n",
       "        }    #T_ed88c942_b153_11e8_ab05_40a3cc1ced18row2_col1 {\n",
       "            background-color:  #c3f6c3;\n",
       "        }    #T_ed88c942_b153_11e8_ab05_40a3cc1ced18row2_col2 {\n",
       "            background-color:  #c1f5c1;\n",
       "        }    #T_ed88c942_b153_11e8_ab05_40a3cc1ced18row2_col3 {\n",
       "            background-color:  #bcf5bc;\n",
       "        }    #T_ed88c942_b153_11e8_ab05_40a3cc1ced18row2_col4 {\n",
       "            background-color:  #bdf5bd;\n",
       "        }    #T_ed88c942_b153_11e8_ab05_40a3cc1ced18row2_col5 {\n",
       "            background-color:  #bff5bf;\n",
       "        }    #T_ed88c942_b153_11e8_ab05_40a3cc1ced18row2_col6 {\n",
       "            background-color:  #b2f3b2;\n",
       "        }    #T_ed88c942_b153_11e8_ab05_40a3cc1ced18row2_col7 {\n",
       "            background-color:  #bef5be;\n",
       "        }    #T_ed88c942_b153_11e8_ab05_40a3cc1ced18row2_col8 {\n",
       "            background-color:  #bcf5bc;\n",
       "        }    #T_ed88c942_b153_11e8_ab05_40a3cc1ced18row2_col9 {\n",
       "            background-color:  #99ef99;\n",
       "        }    #T_ed88c942_b153_11e8_ab05_40a3cc1ced18row3_col0 {\n",
       "            background-color:  #e9fce9;\n",
       "        }    #T_ed88c942_b153_11e8_ab05_40a3cc1ced18row3_col1 {\n",
       "            background-color:  #e9fce9;\n",
       "        }    #T_ed88c942_b153_11e8_ab05_40a3cc1ced18row3_col2 {\n",
       "            background-color:  #e9fce9;\n",
       "        }    #T_ed88c942_b153_11e8_ab05_40a3cc1ced18row3_col3 {\n",
       "            background-color:  #e9fce9;\n",
       "        }    #T_ed88c942_b153_11e8_ab05_40a3cc1ced18row3_col4 {\n",
       "            background-color:  #e9fce9;\n",
       "        }    #T_ed88c942_b153_11e8_ab05_40a3cc1ced18row3_col5 {\n",
       "            background-color:  #e9fce9;\n",
       "        }    #T_ed88c942_b153_11e8_ab05_40a3cc1ced18row3_col6 {\n",
       "            background-color:  #e9fce9;\n",
       "        }    #T_ed88c942_b153_11e8_ab05_40a3cc1ced18row3_col7 {\n",
       "            background-color:  #e9fce9;\n",
       "        }    #T_ed88c942_b153_11e8_ab05_40a3cc1ced18row3_col8 {\n",
       "            background-color:  #e9fce9;\n",
       "        }    #T_ed88c942_b153_11e8_ab05_40a3cc1ced18row3_col9 {\n",
       "            background-color:  #e9fce9;\n",
       "        }    #T_ed88c942_b153_11e8_ab05_40a3cc1ced18row4_col0 {\n",
       "            background-color:  #e9fce9;\n",
       "        }    #T_ed88c942_b153_11e8_ab05_40a3cc1ced18row4_col1 {\n",
       "            background-color:  #e9fce9;\n",
       "        }    #T_ed88c942_b153_11e8_ab05_40a3cc1ced18row4_col2 {\n",
       "            background-color:  #e9fce9;\n",
       "        }    #T_ed88c942_b153_11e8_ab05_40a3cc1ced18row4_col3 {\n",
       "            background-color:  #e9fce9;\n",
       "        }    #T_ed88c942_b153_11e8_ab05_40a3cc1ced18row4_col4 {\n",
       "            background-color:  #e9fce9;\n",
       "        }    #T_ed88c942_b153_11e8_ab05_40a3cc1ced18row4_col5 {\n",
       "            background-color:  #e9fce9;\n",
       "        }    #T_ed88c942_b153_11e8_ab05_40a3cc1ced18row4_col6 {\n",
       "            background-color:  #e9fce9;\n",
       "        }    #T_ed88c942_b153_11e8_ab05_40a3cc1ced18row4_col7 {\n",
       "            background-color:  #e9fce9;\n",
       "        }    #T_ed88c942_b153_11e8_ab05_40a3cc1ced18row4_col8 {\n",
       "            background-color:  #e9fce9;\n",
       "        }    #T_ed88c942_b153_11e8_ab05_40a3cc1ced18row4_col9 {\n",
       "            background-color:  #e9fce9;\n",
       "        }    #T_ed88c942_b153_11e8_ab05_40a3cc1ced18row5_col0 {\n",
       "            background-color:  #e9fce9;\n",
       "        }    #T_ed88c942_b153_11e8_ab05_40a3cc1ced18row5_col1 {\n",
       "            background-color:  #e9fce9;\n",
       "        }    #T_ed88c942_b153_11e8_ab05_40a3cc1ced18row5_col2 {\n",
       "            background-color:  #e9fce9;\n",
       "        }    #T_ed88c942_b153_11e8_ab05_40a3cc1ced18row5_col3 {\n",
       "            background-color:  #e9fce9;\n",
       "        }    #T_ed88c942_b153_11e8_ab05_40a3cc1ced18row5_col4 {\n",
       "            background-color:  #e9fce9;\n",
       "        }    #T_ed88c942_b153_11e8_ab05_40a3cc1ced18row5_col5 {\n",
       "            background-color:  #e9fce9;\n",
       "        }    #T_ed88c942_b153_11e8_ab05_40a3cc1ced18row5_col6 {\n",
       "            background-color:  #e9fce9;\n",
       "        }    #T_ed88c942_b153_11e8_ab05_40a3cc1ced18row5_col7 {\n",
       "            background-color:  #e9fce9;\n",
       "        }    #T_ed88c942_b153_11e8_ab05_40a3cc1ced18row5_col8 {\n",
       "            background-color:  #e9fce9;\n",
       "        }    #T_ed88c942_b153_11e8_ab05_40a3cc1ced18row5_col9 {\n",
       "            background-color:  #e9fce9;\n",
       "        }    #T_ed88c942_b153_11e8_ab05_40a3cc1ced18row6_col0 {\n",
       "            background-color:  #e9fce9;\n",
       "        }    #T_ed88c942_b153_11e8_ab05_40a3cc1ced18row6_col1 {\n",
       "            background-color:  #e9fce9;\n",
       "        }    #T_ed88c942_b153_11e8_ab05_40a3cc1ced18row6_col2 {\n",
       "            background-color:  #e9fce9;\n",
       "        }    #T_ed88c942_b153_11e8_ab05_40a3cc1ced18row6_col3 {\n",
       "            background-color:  #e9fce9;\n",
       "        }    #T_ed88c942_b153_11e8_ab05_40a3cc1ced18row6_col4 {\n",
       "            background-color:  #e9fce9;\n",
       "        }    #T_ed88c942_b153_11e8_ab05_40a3cc1ced18row6_col5 {\n",
       "            background-color:  #e9fce9;\n",
       "        }    #T_ed88c942_b153_11e8_ab05_40a3cc1ced18row6_col6 {\n",
       "            background-color:  #e9fce9;\n",
       "        }    #T_ed88c942_b153_11e8_ab05_40a3cc1ced18row6_col7 {\n",
       "            background-color:  #e9fce9;\n",
       "        }    #T_ed88c942_b153_11e8_ab05_40a3cc1ced18row6_col8 {\n",
       "            background-color:  #e9fce9;\n",
       "        }    #T_ed88c942_b153_11e8_ab05_40a3cc1ced18row6_col9 {\n",
       "            background-color:  #e9fce9;\n",
       "        }    #T_ed88c942_b153_11e8_ab05_40a3cc1ced18row7_col0 {\n",
       "            background-color:  #e9fce9;\n",
       "        }    #T_ed88c942_b153_11e8_ab05_40a3cc1ced18row7_col1 {\n",
       "            background-color:  #e9fce9;\n",
       "        }    #T_ed88c942_b153_11e8_ab05_40a3cc1ced18row7_col2 {\n",
       "            background-color:  #e9fce9;\n",
       "        }    #T_ed88c942_b153_11e8_ab05_40a3cc1ced18row7_col3 {\n",
       "            background-color:  #e9fce9;\n",
       "        }    #T_ed88c942_b153_11e8_ab05_40a3cc1ced18row7_col4 {\n",
       "            background-color:  #e9fce9;\n",
       "        }    #T_ed88c942_b153_11e8_ab05_40a3cc1ced18row7_col5 {\n",
       "            background-color:  #e9fce9;\n",
       "        }    #T_ed88c942_b153_11e8_ab05_40a3cc1ced18row7_col6 {\n",
       "            background-color:  #e9fce9;\n",
       "        }    #T_ed88c942_b153_11e8_ab05_40a3cc1ced18row7_col7 {\n",
       "            background-color:  #e9fce9;\n",
       "        }    #T_ed88c942_b153_11e8_ab05_40a3cc1ced18row7_col8 {\n",
       "            background-color:  #e9fce9;\n",
       "        }    #T_ed88c942_b153_11e8_ab05_40a3cc1ced18row7_col9 {\n",
       "            background-color:  #e9fce9;\n",
       "        }    #T_ed88c942_b153_11e8_ab05_40a3cc1ced18row8_col0 {\n",
       "            background-color:  #e9fce9;\n",
       "        }    #T_ed88c942_b153_11e8_ab05_40a3cc1ced18row8_col1 {\n",
       "            background-color:  #e8fce8;\n",
       "        }    #T_ed88c942_b153_11e8_ab05_40a3cc1ced18row8_col2 {\n",
       "            background-color:  #e9fce9;\n",
       "        }    #T_ed88c942_b153_11e8_ab05_40a3cc1ced18row8_col3 {\n",
       "            background-color:  #e8fce8;\n",
       "        }    #T_ed88c942_b153_11e8_ab05_40a3cc1ced18row8_col4 {\n",
       "            background-color:  #e8fbe8;\n",
       "        }    #T_ed88c942_b153_11e8_ab05_40a3cc1ced18row8_col5 {\n",
       "            background-color:  #e7fbe7;\n",
       "        }    #T_ed88c942_b153_11e8_ab05_40a3cc1ced18row8_col6 {\n",
       "            background-color:  #e9fce9;\n",
       "        }    #T_ed88c942_b153_11e8_ab05_40a3cc1ced18row8_col7 {\n",
       "            background-color:  #e9fce9;\n",
       "        }    #T_ed88c942_b153_11e8_ab05_40a3cc1ced18row8_col8 {\n",
       "            background-color:  #e9fce9;\n",
       "        }    #T_ed88c942_b153_11e8_ab05_40a3cc1ced18row8_col9 {\n",
       "            background-color:  #e9fce9;\n",
       "        }    #T_ed88c942_b153_11e8_ab05_40a3cc1ced18row9_col0 {\n",
       "            background-color:  #90ee90;\n",
       "        }    #T_ed88c942_b153_11e8_ab05_40a3cc1ced18row9_col1 {\n",
       "            background-color:  #90ee90;\n",
       "        }    #T_ed88c942_b153_11e8_ab05_40a3cc1ced18row9_col2 {\n",
       "            background-color:  #90ee90;\n",
       "        }    #T_ed88c942_b153_11e8_ab05_40a3cc1ced18row9_col3 {\n",
       "            background-color:  #90ee90;\n",
       "        }    #T_ed88c942_b153_11e8_ab05_40a3cc1ced18row9_col4 {\n",
       "            background-color:  #90ee90;\n",
       "        }    #T_ed88c942_b153_11e8_ab05_40a3cc1ced18row9_col5 {\n",
       "            background-color:  #90ee90;\n",
       "        }    #T_ed88c942_b153_11e8_ab05_40a3cc1ced18row9_col6 {\n",
       "            background-color:  #90ee90;\n",
       "        }    #T_ed88c942_b153_11e8_ab05_40a3cc1ced18row9_col7 {\n",
       "            background-color:  #90ee90;\n",
       "        }    #T_ed88c942_b153_11e8_ab05_40a3cc1ced18row9_col8 {\n",
       "            background-color:  #90ee90;\n",
       "        }    #T_ed88c942_b153_11e8_ab05_40a3cc1ced18row9_col9 {\n",
       "            background-color:  #90ee90;\n",
       "        }    #T_ed88c942_b153_11e8_ab05_40a3cc1ced18row10_col0 {\n",
       "            background-color:  #e9fce9;\n",
       "        }    #T_ed88c942_b153_11e8_ab05_40a3cc1ced18row10_col1 {\n",
       "            background-color:  #e9fce9;\n",
       "        }    #T_ed88c942_b153_11e8_ab05_40a3cc1ced18row10_col2 {\n",
       "            background-color:  #e9fce9;\n",
       "        }    #T_ed88c942_b153_11e8_ab05_40a3cc1ced18row10_col3 {\n",
       "            background-color:  #e9fce9;\n",
       "        }    #T_ed88c942_b153_11e8_ab05_40a3cc1ced18row10_col4 {\n",
       "            background-color:  #e9fce9;\n",
       "        }    #T_ed88c942_b153_11e8_ab05_40a3cc1ced18row10_col5 {\n",
       "            background-color:  #e9fce9;\n",
       "        }    #T_ed88c942_b153_11e8_ab05_40a3cc1ced18row10_col6 {\n",
       "            background-color:  #e9fce9;\n",
       "        }    #T_ed88c942_b153_11e8_ab05_40a3cc1ced18row10_col7 {\n",
       "            background-color:  #e9fce9;\n",
       "        }    #T_ed88c942_b153_11e8_ab05_40a3cc1ced18row10_col8 {\n",
       "            background-color:  #e9fce9;\n",
       "        }    #T_ed88c942_b153_11e8_ab05_40a3cc1ced18row10_col9 {\n",
       "            background-color:  #e9fce9;\n",
       "        }    #T_ed88c942_b153_11e8_ab05_40a3cc1ced18row11_col0 {\n",
       "            background-color:  #e9fce9;\n",
       "        }    #T_ed88c942_b153_11e8_ab05_40a3cc1ced18row11_col1 {\n",
       "            background-color:  #e8fce8;\n",
       "        }    #T_ed88c942_b153_11e8_ab05_40a3cc1ced18row11_col2 {\n",
       "            background-color:  #e9fce9;\n",
       "        }    #T_ed88c942_b153_11e8_ab05_40a3cc1ced18row11_col3 {\n",
       "            background-color:  #e8fce8;\n",
       "        }    #T_ed88c942_b153_11e8_ab05_40a3cc1ced18row11_col4 {\n",
       "            background-color:  #e8fbe8;\n",
       "        }    #T_ed88c942_b153_11e8_ab05_40a3cc1ced18row11_col5 {\n",
       "            background-color:  #e7fbe7;\n",
       "        }    #T_ed88c942_b153_11e8_ab05_40a3cc1ced18row11_col6 {\n",
       "            background-color:  #e9fce9;\n",
       "        }    #T_ed88c942_b153_11e8_ab05_40a3cc1ced18row11_col7 {\n",
       "            background-color:  #e9fce9;\n",
       "        }    #T_ed88c942_b153_11e8_ab05_40a3cc1ced18row11_col8 {\n",
       "            background-color:  #e9fce9;\n",
       "        }    #T_ed88c942_b153_11e8_ab05_40a3cc1ced18row11_col9 {\n",
       "            background-color:  #e9fce9;\n",
       "        }</style>  \n",
       "<table id=\"T_ed88c942_b153_11e8_ab05_40a3cc1ced18\" > \n",
       "<thead>    <tr> \n",
       "        <th class=\"blank level0\" ></th> \n",
       "        <th class=\"col_heading level0 col0\" >0</th> \n",
       "        <th class=\"col_heading level0 col1\" >1</th> \n",
       "        <th class=\"col_heading level0 col2\" >2</th> \n",
       "        <th class=\"col_heading level0 col3\" >3</th> \n",
       "        <th class=\"col_heading level0 col4\" >4</th> \n",
       "        <th class=\"col_heading level0 col5\" >5</th> \n",
       "        <th class=\"col_heading level0 col6\" >6</th> \n",
       "        <th class=\"col_heading level0 col7\" >7</th> \n",
       "        <th class=\"col_heading level0 col8\" >8</th> \n",
       "        <th class=\"col_heading level0 col9\" >9</th> \n",
       "    </tr></thead> \n",
       "<tbody>    <tr> \n",
       "        <th id=\"T_ed88c942_b153_11e8_ab05_40a3cc1ced18level0_row0\" class=\"row_heading level0 row0\" >explained_variance</th> \n",
       "        <td id=\"T_ed88c942_b153_11e8_ab05_40a3cc1ced18row0_col0\" class=\"data row0 col0\" >0.883569</td> \n",
       "        <td id=\"T_ed88c942_b153_11e8_ab05_40a3cc1ced18row0_col1\" class=\"data row0 col1\" >0.994874</td> \n",
       "        <td id=\"T_ed88c942_b153_11e8_ab05_40a3cc1ced18row0_col2\" class=\"data row0 col2\" >0.979624</td> \n",
       "        <td id=\"T_ed88c942_b153_11e8_ab05_40a3cc1ced18row0_col3\" class=\"data row0 col3\" >0.994953</td> \n",
       "        <td id=\"T_ed88c942_b153_11e8_ab05_40a3cc1ced18row0_col4\" class=\"data row0 col4\" >0.99672</td> \n",
       "        <td id=\"T_ed88c942_b153_11e8_ab05_40a3cc1ced18row0_col5\" class=\"data row0 col5\" >0.998458</td> \n",
       "        <td id=\"T_ed88c942_b153_11e8_ab05_40a3cc1ced18row0_col6\" class=\"data row0 col6\" >0.0882075</td> \n",
       "        <td id=\"T_ed88c942_b153_11e8_ab05_40a3cc1ced18row0_col7\" class=\"data row0 col7\" >0.914448</td> \n",
       "        <td id=\"T_ed88c942_b153_11e8_ab05_40a3cc1ced18row0_col8\" class=\"data row0 col8\" >0.978354</td> \n",
       "        <td id=\"T_ed88c942_b153_11e8_ab05_40a3cc1ced18row0_col9\" class=\"data row0 col9\" >0.99693</td> \n",
       "    </tr>    <tr> \n",
       "        <th id=\"T_ed88c942_b153_11e8_ab05_40a3cc1ced18level0_row1\" class=\"row_heading level0 row1\" >mean_absolute_error</th> \n",
       "        <td id=\"T_ed88c942_b153_11e8_ab05_40a3cc1ced18row1_col0\" class=\"data row1 col0\" >336.036</td> \n",
       "        <td id=\"T_ed88c942_b153_11e8_ab05_40a3cc1ced18row1_col1\" class=\"data row1 col1\" >56.7647</td> \n",
       "        <td id=\"T_ed88c942_b153_11e8_ab05_40a3cc1ced18row1_col2\" class=\"data row1 col2\" >120.516</td> \n",
       "        <td id=\"T_ed88c942_b153_11e8_ab05_40a3cc1ced18row1_col3\" class=\"data row1 col3\" >64.2049</td> \n",
       "        <td id=\"T_ed88c942_b153_11e8_ab05_40a3cc1ced18row1_col4\" class=\"data row1 col4\" >50.2717</td> \n",
       "        <td id=\"T_ed88c942_b153_11e8_ab05_40a3cc1ced18row1_col5\" class=\"data row1 col5\" >33.2532</td> \n",
       "        <td id=\"T_ed88c942_b153_11e8_ab05_40a3cc1ced18row1_col6\" class=\"data row1 col6\" >918.14</td> \n",
       "        <td id=\"T_ed88c942_b153_11e8_ab05_40a3cc1ced18row1_col7\" class=\"data row1 col7\" >256.774</td> \n",
       "        <td id=\"T_ed88c942_b153_11e8_ab05_40a3cc1ced18row1_col8\" class=\"data row1 col8\" >131.19</td> \n",
       "        <td id=\"T_ed88c942_b153_11e8_ab05_40a3cc1ced18row1_col9\" class=\"data row1 col9\" >181.768</td> \n",
       "    </tr>    <tr> \n",
       "        <th id=\"T_ed88c942_b153_11e8_ab05_40a3cc1ced18level0_row2\" class=\"row_heading level0 row2\" >median_absolute_error</th> \n",
       "        <td id=\"T_ed88c942_b153_11e8_ab05_40a3cc1ced18row2_col0\" class=\"data row2 col0\" >283.912</td> \n",
       "        <td id=\"T_ed88c942_b153_11e8_ab05_40a3cc1ced18row2_col1\" class=\"data row2 col1\" >38.2161</td> \n",
       "        <td id=\"T_ed88c942_b153_11e8_ab05_40a3cc1ced18row2_col2\" class=\"data row2 col2\" >80.9027</td> \n",
       "        <td id=\"T_ed88c942_b153_11e8_ab05_40a3cc1ced18row2_col3\" class=\"data row2 col3\" >44.5879</td> \n",
       "        <td id=\"T_ed88c942_b153_11e8_ab05_40a3cc1ced18row2_col4\" class=\"data row2 col4\" >35.7801</td> \n",
       "        <td id=\"T_ed88c942_b153_11e8_ab05_40a3cc1ced18row2_col5\" class=\"data row2 col5\" >22.9815</td> \n",
       "        <td id=\"T_ed88c942_b153_11e8_ab05_40a3cc1ced18row2_col6\" class=\"data row2 col6\" >738.36</td> \n",
       "        <td id=\"T_ed88c942_b153_11e8_ab05_40a3cc1ced18row2_col7\" class=\"data row2 col7\" >175.634</td> \n",
       "        <td id=\"T_ed88c942_b153_11e8_ab05_40a3cc1ced18row2_col8\" class=\"data row2 col8\" >94.0057</td> \n",
       "        <td id=\"T_ed88c942_b153_11e8_ab05_40a3cc1ced18row2_col9\" class=\"data row2 col9\" >172.511</td> \n",
       "    </tr>    <tr> \n",
       "        <th id=\"T_ed88c942_b153_11e8_ab05_40a3cc1ced18level0_row3\" class=\"row_heading level0 row3\" >normalized_mean_absolute_error</th> \n",
       "        <td id=\"T_ed88c942_b153_11e8_ab05_40a3cc1ced18row3_col0\" class=\"data row3 col0\" >0.0390904</td> \n",
       "        <td id=\"T_ed88c942_b153_11e8_ab05_40a3cc1ced18row3_col1\" class=\"data row3 col1\" >0.00660332</td> \n",
       "        <td id=\"T_ed88c942_b153_11e8_ab05_40a3cc1ced18row3_col2\" class=\"data row3 col2\" >0.0140194</td> \n",
       "        <td id=\"T_ed88c942_b153_11e8_ab05_40a3cc1ced18row3_col3\" class=\"data row3 col3\" >0.00746881</td> \n",
       "        <td id=\"T_ed88c942_b153_11e8_ab05_40a3cc1ced18row3_col4\" class=\"data row3 col4\" >0.00584799</td> \n",
       "        <td id=\"T_ed88c942_b153_11e8_ab05_40a3cc1ced18row3_col5\" class=\"data row3 col5\" >0.00386827</td> \n",
       "        <td id=\"T_ed88c942_b153_11e8_ab05_40a3cc1ced18row3_col6\" class=\"data row3 col6\" >0.106805</td> \n",
       "        <td id=\"T_ed88c942_b153_11e8_ab05_40a3cc1ced18row3_col7\" class=\"data row3 col7\" >0.0298699</td> \n",
       "        <td id=\"T_ed88c942_b153_11e8_ab05_40a3cc1ced18row3_col8\" class=\"data row3 col8\" >0.015261</td> \n",
       "        <td id=\"T_ed88c942_b153_11e8_ab05_40a3cc1ced18row3_col9\" class=\"data row3 col9\" >0.0211446</td> \n",
       "    </tr>    <tr> \n",
       "        <th id=\"T_ed88c942_b153_11e8_ab05_40a3cc1ced18level0_row4\" class=\"row_heading level0 row4\" >normalized_median_absolute_error</th> \n",
       "        <td id=\"T_ed88c942_b153_11e8_ab05_40a3cc1ced18row4_col0\" class=\"data row4 col0\" >0.0330268</td> \n",
       "        <td id=\"T_ed88c942_b153_11e8_ab05_40a3cc1ced18row4_col1\" class=\"data row4 col1\" >0.00444559</td> \n",
       "        <td id=\"T_ed88c942_b153_11e8_ab05_40a3cc1ced18row4_col2\" class=\"data row4 col2\" >0.00941123</td> \n",
       "        <td id=\"T_ed88c942_b153_11e8_ab05_40a3cc1ced18row4_col3\" class=\"data row4 col3\" >0.00518681</td> \n",
       "        <td id=\"T_ed88c942_b153_11e8_ab05_40a3cc1ced18row4_col4\" class=\"data row4 col4\" >0.00416222</td> \n",
       "        <td id=\"T_ed88c942_b153_11e8_ab05_40a3cc1ced18row4_col5\" class=\"data row4 col5\" >0.00267339</td> \n",
       "        <td id=\"T_ed88c942_b153_11e8_ab05_40a3cc1ced18row4_col6\" class=\"data row4 col6\" >0.0858918</td> \n",
       "        <td id=\"T_ed88c942_b153_11e8_ab05_40a3cc1ced18row4_col7\" class=\"data row4 col7\" >0.0204311</td> \n",
       "        <td id=\"T_ed88c942_b153_11e8_ab05_40a3cc1ced18row4_col8\" class=\"data row4 col8\" >0.0109355</td> \n",
       "        <td id=\"T_ed88c942_b153_11e8_ab05_40a3cc1ced18row4_col9\" class=\"data row4 col9\" >0.0200678</td> \n",
       "    </tr>    <tr> \n",
       "        <th id=\"T_ed88c942_b153_11e8_ab05_40a3cc1ced18level0_row5\" class=\"row_heading level0 row5\" >normalized_root_mean_squared_error</th> \n",
       "        <td id=\"T_ed88c942_b153_11e8_ab05_40a3cc1ced18row5_col0\" class=\"data row5 col0\" >0.0497262</td> \n",
       "        <td id=\"T_ed88c942_b153_11e8_ab05_40a3cc1ced18row5_col1\" class=\"data row5 col1\" >0.0104345</td> \n",
       "        <td id=\"T_ed88c942_b153_11e8_ab05_40a3cc1ced18row5_col2\" class=\"data row5 col2\" >0.0208041</td> \n",
       "        <td id=\"T_ed88c942_b153_11e8_ab05_40a3cc1ced18row5_col3\" class=\"data row5 col3\" >0.010356</td> \n",
       "        <td id=\"T_ed88c942_b153_11e8_ab05_40a3cc1ced18row5_col4\" class=\"data row5 col4\" >0.00834678</td> \n",
       "        <td id=\"T_ed88c942_b153_11e8_ab05_40a3cc1ced18row5_col5\" class=\"data row5 col5\" >0.00572173</td> \n",
       "        <td id=\"T_ed88c942_b153_11e8_ab05_40a3cc1ced18row5_col6\" class=\"data row5 col6\" >0.139203</td> \n",
       "        <td id=\"T_ed88c942_b153_11e8_ab05_40a3cc1ced18row5_col7\" class=\"data row5 col7\" >0.042592</td> \n",
       "        <td id=\"T_ed88c942_b153_11e8_ab05_40a3cc1ced18row5_col8\" class=\"data row5 col8\" >0.0214437</td> \n",
       "        <td id=\"T_ed88c942_b153_11e8_ab05_40a3cc1ced18row5_col9\" class=\"data row5 col9\" >0.0225197</td> \n",
       "    </tr>    <tr> \n",
       "        <th id=\"T_ed88c942_b153_11e8_ab05_40a3cc1ced18level0_row6\" class=\"row_heading level0 row6\" >normalized_root_mean_squared_error_min</th> \n",
       "        <td id=\"T_ed88c942_b153_11e8_ab05_40a3cc1ced18row6_col0\" class=\"data row6 col0\" >0.0497262</td> \n",
       "        <td id=\"T_ed88c942_b153_11e8_ab05_40a3cc1ced18row6_col1\" class=\"data row6 col1\" >0.0104345</td> \n",
       "        <td id=\"T_ed88c942_b153_11e8_ab05_40a3cc1ced18row6_col2\" class=\"data row6 col2\" >0.0104345</td> \n",
       "        <td id=\"T_ed88c942_b153_11e8_ab05_40a3cc1ced18row6_col3\" class=\"data row6 col3\" >0.010356</td> \n",
       "        <td id=\"T_ed88c942_b153_11e8_ab05_40a3cc1ced18row6_col4\" class=\"data row6 col4\" >0.00834678</td> \n",
       "        <td id=\"T_ed88c942_b153_11e8_ab05_40a3cc1ced18row6_col5\" class=\"data row6 col5\" >0.00572173</td> \n",
       "        <td id=\"T_ed88c942_b153_11e8_ab05_40a3cc1ced18row6_col6\" class=\"data row6 col6\" >0.00572173</td> \n",
       "        <td id=\"T_ed88c942_b153_11e8_ab05_40a3cc1ced18row6_col7\" class=\"data row6 col7\" >0.00572173</td> \n",
       "        <td id=\"T_ed88c942_b153_11e8_ab05_40a3cc1ced18row6_col8\" class=\"data row6 col8\" >0.00572173</td> \n",
       "        <td id=\"T_ed88c942_b153_11e8_ab05_40a3cc1ced18row6_col9\" class=\"data row6 col9\" >0.00572173</td> \n",
       "    </tr>    <tr> \n",
       "        <th id=\"T_ed88c942_b153_11e8_ab05_40a3cc1ced18level0_row7\" class=\"row_heading level0 row7\" >normalized_root_mean_squared_log_error</th> \n",
       "        <td id=\"T_ed88c942_b153_11e8_ab05_40a3cc1ced18row7_col0\" class=\"data row7 col0\" >8.07741e-06</td> \n",
       "        <td id=\"T_ed88c942_b153_11e8_ab05_40a3cc1ced18row7_col1\" class=\"data row7 col1\" >1.62331e-06</td> \n",
       "        <td id=\"T_ed88c942_b153_11e8_ab05_40a3cc1ced18row7_col2\" class=\"data row7 col2\" >3.27666e-06</td> \n",
       "        <td id=\"T_ed88c942_b153_11e8_ab05_40a3cc1ced18row7_col3\" class=\"data row7 col3\" >1.7441e-06</td> \n",
       "        <td id=\"T_ed88c942_b153_11e8_ab05_40a3cc1ced18row7_col4\" class=\"data row7 col4\" >1.34689e-06</td> \n",
       "        <td id=\"T_ed88c942_b153_11e8_ab05_40a3cc1ced18row7_col5\" class=\"data row7 col5\" >9.06972e-07</td> \n",
       "        <td id=\"T_ed88c942_b153_11e8_ab05_40a3cc1ced18row7_col6\" class=\"data row7 col6\" >2.25201e-05</td> \n",
       "        <td id=\"T_ed88c942_b153_11e8_ab05_40a3cc1ced18row7_col7\" class=\"data row7 col7\" >6.57259e-06</td> \n",
       "        <td id=\"T_ed88c942_b153_11e8_ab05_40a3cc1ced18row7_col8\" class=\"data row7 col8\" >3.479e-06</td> \n",
       "        <td id=\"T_ed88c942_b153_11e8_ab05_40a3cc1ced18row7_col9\" class=\"data row7 col9\" >3.68513e-06</td> \n",
       "    </tr>    <tr> \n",
       "        <th id=\"T_ed88c942_b153_11e8_ab05_40a3cc1ced18level0_row8\" class=\"row_heading level0 row8\" >r2_score</th> \n",
       "        <td id=\"T_ed88c942_b153_11e8_ab05_40a3cc1ced18row8_col0\" class=\"data row8 col0\" >0.883548</td> \n",
       "        <td id=\"T_ed88c942_b153_11e8_ab05_40a3cc1ced18row8_col1\" class=\"data row8 col1\" >0.994873</td> \n",
       "        <td id=\"T_ed88c942_b153_11e8_ab05_40a3cc1ced18row8_col2\" class=\"data row8 col2\" >0.979624</td> \n",
       "        <td id=\"T_ed88c942_b153_11e8_ab05_40a3cc1ced18row8_col3\" class=\"data row8 col3\" >0.994952</td> \n",
       "        <td id=\"T_ed88c942_b153_11e8_ab05_40a3cc1ced18row8_col4\" class=\"data row8 col4\" >0.99672</td> \n",
       "        <td id=\"T_ed88c942_b153_11e8_ab05_40a3cc1ced18row8_col5\" class=\"data row8 col5\" >0.998458</td> \n",
       "        <td id=\"T_ed88c942_b153_11e8_ab05_40a3cc1ced18row8_col6\" class=\"data row8 col6\" >0.0880561</td> \n",
       "        <td id=\"T_ed88c942_b153_11e8_ab05_40a3cc1ced18row8_col7\" class=\"data row8 col7\" >0.914441</td> \n",
       "        <td id=\"T_ed88c942_b153_11e8_ab05_40a3cc1ced18row8_col8\" class=\"data row8 col8\" >0.978353</td> \n",
       "        <td id=\"T_ed88c942_b153_11e8_ab05_40a3cc1ced18row8_col9\" class=\"data row8 col9\" >0.976128</td> \n",
       "    </tr>    <tr> \n",
       "        <th id=\"T_ed88c942_b153_11e8_ab05_40a3cc1ced18level0_row9\" class=\"row_heading level0 row9\" >root_mean_squared_error</th> \n",
       "        <td id=\"T_ed88c942_b153_11e8_ab05_40a3cc1ced18row9_col0\" class=\"data row9 col0\" >427.466</td> \n",
       "        <td id=\"T_ed88c942_b153_11e8_ab05_40a3cc1ced18row9_col1\" class=\"data row9 col1\" >89.699</td> \n",
       "        <td id=\"T_ed88c942_b153_11e8_ab05_40a3cc1ced18row9_col2\" class=\"data row9 col2\" >178.841</td> \n",
       "        <td id=\"T_ed88c942_b153_11e8_ab05_40a3cc1ced18row9_col3\" class=\"data row9 col3\" >89.0245</td> \n",
       "        <td id=\"T_ed88c942_b153_11e8_ab05_40a3cc1ced18row9_col4\" class=\"data row9 col4\" >71.7523</td> \n",
       "        <td id=\"T_ed88c942_b153_11e8_ab05_40a3cc1ced18row9_col5\" class=\"data row9 col5\" >49.1863</td> \n",
       "        <td id=\"T_ed88c942_b153_11e8_ab05_40a3cc1ced18row9_col6\" class=\"data row9 col6\" >1196.64</td> \n",
       "        <td id=\"T_ed88c942_b153_11e8_ab05_40a3cc1ced18row9_col7\" class=\"data row9 col7\" >366.138</td> \n",
       "        <td id=\"T_ed88c942_b153_11e8_ab05_40a3cc1ced18row9_col8\" class=\"data row9 col8\" >184.338</td> \n",
       "        <td id=\"T_ed88c942_b153_11e8_ab05_40a3cc1ced18row9_col9\" class=\"data row9 col9\" >193.589</td> \n",
       "    </tr>    <tr> \n",
       "        <th id=\"T_ed88c942_b153_11e8_ab05_40a3cc1ced18level0_row10\" class=\"row_heading level0 row10\" >root_mean_squared_log_error</th> \n",
       "        <td id=\"T_ed88c942_b153_11e8_ab05_40a3cc1ced18row10_col0\" class=\"data row10 col0\" >0.0694366</td> \n",
       "        <td id=\"T_ed88c942_b153_11e8_ab05_40a3cc1ced18row10_col1\" class=\"data row10 col1\" >0.0139546</td> \n",
       "        <td id=\"T_ed88c942_b153_11e8_ab05_40a3cc1ced18row10_col2\" class=\"data row10 col2\" >0.0281674</td> \n",
       "        <td id=\"T_ed88c942_b153_11e8_ab05_40a3cc1ced18row10_col3\" class=\"data row10 col3\" >0.014993</td> \n",
       "        <td id=\"T_ed88c942_b153_11e8_ab05_40a3cc1ced18row10_col4\" class=\"data row10 col4\" >0.0115784</td> \n",
       "        <td id=\"T_ed88c942_b153_11e8_ab05_40a3cc1ced18row10_col5\" class=\"data row10 col5\" >0.00779669</td> \n",
       "        <td id=\"T_ed88c942_b153_11e8_ab05_40a3cc1ced18row10_col6\" class=\"data row10 col6\" >0.193592</td> \n",
       "        <td id=\"T_ed88c942_b153_11e8_ab05_40a3cc1ced18row10_col7\" class=\"data row10 col7\" >0.0565006</td> \n",
       "        <td id=\"T_ed88c942_b153_11e8_ab05_40a3cc1ced18row10_col8\" class=\"data row10 col8\" >0.0299068</td> \n",
       "        <td id=\"T_ed88c942_b153_11e8_ab05_40a3cc1ced18row10_col9\" class=\"data row10 col9\" >0.0316789</td> \n",
       "    </tr>    <tr> \n",
       "        <th id=\"T_ed88c942_b153_11e8_ab05_40a3cc1ced18level0_row11\" class=\"row_heading level0 row11\" >spearman_correlation</th> \n",
       "        <td id=\"T_ed88c942_b153_11e8_ab05_40a3cc1ced18row11_col0\" class=\"data row11 col0\" >0.944206</td> \n",
       "        <td id=\"T_ed88c942_b153_11e8_ab05_40a3cc1ced18row11_col1\" class=\"data row11 col1\" >0.997963</td> \n",
       "        <td id=\"T_ed88c942_b153_11e8_ab05_40a3cc1ced18row11_col2\" class=\"data row11 col2\" >0.991809</td> \n",
       "        <td id=\"T_ed88c942_b153_11e8_ab05_40a3cc1ced18row11_col3\" class=\"data row11 col3\" >0.996729</td> \n",
       "        <td id=\"T_ed88c942_b153_11e8_ab05_40a3cc1ced18row11_col4\" class=\"data row11 col4\" >0.998224</td> \n",
       "        <td id=\"T_ed88c942_b153_11e8_ab05_40a3cc1ced18row11_col5\" class=\"data row11 col5\" >0.99922</td> \n",
       "        <td id=\"T_ed88c942_b153_11e8_ab05_40a3cc1ced18row11_col6\" class=\"data row11 col6\" >0.639645</td> \n",
       "        <td id=\"T_ed88c942_b153_11e8_ab05_40a3cc1ced18row11_col7\" class=\"data row11 col7\" >0.95267</td> \n",
       "        <td id=\"T_ed88c942_b153_11e8_ab05_40a3cc1ced18row11_col8\" class=\"data row11 col8\" >0.989239</td> \n",
       "        <td id=\"T_ed88c942_b153_11e8_ab05_40a3cc1ced18row11_col9\" class=\"data row11 col9\" >0.999091</td> \n",
       "    </tr></tbody> \n",
       "</table> "
      ],
      "text/plain": [
       "<pandas.io.formats.style.Styler at 0x1ae2fba09e8>"
      ]
     },
     "execution_count": 28,
     "metadata": {},
     "output_type": "execute_result"
    }
   ],
   "source": [
    "children = list(local_run.get_children())\n",
    "metricslist = {}\n",
    "for run in children:\n",
    "    properties = run.get_properties()\n",
    "    metrics = {k: v for k, v in run.get_metrics().items() if not isinstance(v, list)}    \n",
    "    metricslist[int(properties['iteration'])] = metrics\n",
    "    \n",
    "import pandas as pd\n",
    "import seaborn as sns\n",
    "rundata = pd.DataFrame(metricslist).sort_index(1)\n",
    "cm = sns.light_palette(\"lightgreen\", as_cmap = True)\n",
    "s = rundata.style.background_gradient(cmap = cm)\n",
    "s"
   ]
  },
  {
   "cell_type": "markdown",
   "metadata": {},
   "source": [
    "### Retrieve the Best Model\n",
    "\n",
    "Below we select the best pipeline from our iterations. The *get_output* method on automl_classifier returns the best run and the fitted model for the last *fit* invocation. There are overloads on *get_output* that allow you to retrieve the best run and fitted model for *any* logged metric or a particular *iteration*."
   ]
  },
  {
   "cell_type": "code",
   "execution_count": 29,
   "metadata": {
    "scrolled": true
   },
   "outputs": [
    {
     "name": "stdout",
     "output_type": "stream",
     "text": [
      "Run({'id': 'AutoML_eeecbb34-59f9-4e58-a757-6897e2d6666e_5', 'type': None, 'status': 'Completed'})\n",
      "Pipeline(memory=None,\n",
      "     steps=[('Normalize', StandardScaler(copy=True, with_mean=False, with_std=True)), ('lightGBM regressor', <azureml.train.automl.model_wrappers.LightGBMRegressor object at 0x000001AE33FA3438>)])\n"
     ]
    }
   ],
   "source": [
    "best_run, fitted_model = local_run.get_output()\n",
    "print(best_run)\n",
    "print(fitted_model)"
   ]
  },
  {
   "cell_type": "markdown",
   "metadata": {},
   "source": [
    "#### Best Model based on any other metric\n",
    "Show the run and model that has the smallest `spearman_correlation` value:"
   ]
  },
  {
   "cell_type": "code",
   "execution_count": 37,
   "metadata": {},
   "outputs": [
    {
     "name": "stdout",
     "output_type": "stream",
     "text": [
      "Run({'id': 'AutoML_eeecbb34-59f9-4e58-a757-6897e2d6666e_5', 'type': None, 'status': 'Completed'})\n",
      "Pipeline(memory=None,\n",
      "     steps=[('Normalize', StandardScaler(copy=True, with_mean=False, with_std=True)), ('lightGBM regressor', <azureml.train.automl.model_wrappers.LightGBMRegressor object at 0x000001AE340D43C8>)])\n"
     ]
    }
   ],
   "source": [
    "lookup_metric = \"spearman_correlation\"\n",
    "best_run, fitted_model = local_run.get_output(metric=lookup_metric)\n",
    "print(best_run)\n",
    "print(fitted_model)"
   ]
  },
  {
   "cell_type": "markdown",
   "metadata": {},
   "source": [
    "#### Best Model based on any iteration\n",
    "Simply show the run and model from the 3rd iteration:"
   ]
  },
  {
   "cell_type": "code",
   "execution_count": 38,
   "metadata": {},
   "outputs": [
    {
     "name": "stdout",
     "output_type": "stream",
     "text": [
      "Run({'id': 'AutoML_eeecbb34-59f9-4e58-a757-6897e2d6666e_3', 'type': None, 'status': 'Completed'})\n",
      "Pipeline(memory=None,\n",
      "     steps=[('Scale 0/1', MinMaxScaler(copy=True, feature_range=(0, 1))), ('Lasso lars', LassoLars(alpha=0.001, copy_X=True, eps=2.220446049250313e-16,\n",
      "     fit_intercept=True, fit_path=True, max_iter=500, normalize=True,\n",
      "     positive=False, precompute='auto', verbose=False))])\n"
     ]
    }
   ],
   "source": [
    "iteration = 3\n",
    "third_run, third_model = local_run.get_output(iteration = iteration)\n",
    "print(third_run)\n",
    "print(third_model)"
   ]
  },
  {
   "cell_type": "markdown",
   "metadata": {},
   "source": [
    "### Register fitted model for deployment"
   ]
  },
  {
   "cell_type": "code",
   "execution_count": 39,
   "metadata": {
    "scrolled": true
   },
   "outputs": [
    {
     "name": "stdout",
     "output_type": "stream",
     "text": [
      "Registering model AutoMLeeecbb345best\n",
      "AutoMLeeecbb345best\n"
     ]
    }
   ],
   "source": [
    "description = 'AutoML Model'\n",
    "tags = None\n",
    "local_run.register_model(description = description, tags = tags)\n",
    "print(local_run.model_id) # Use this id to deploy the model as a web service in Azure"
   ]
  },
  {
   "cell_type": "markdown",
   "metadata": {},
   "source": [
    "### Testing the Fitted Model"
   ]
  },
  {
   "cell_type": "markdown",
   "metadata": {},
   "source": [
    "Predict on training and test set, and calculate residual values."
   ]
  },
  {
   "cell_type": "code",
   "execution_count": 40,
   "metadata": {
    "scrolled": false
   },
   "outputs": [],
   "source": [
    "x_train = train.drop(['demand', 'timeStamp'], axis=1)\n",
    "y_train = train['demand']\n",
    "y_pred_train = fitted_model.predict(x_train)\n",
    "#y_residual_train = y_train - y_pred_train\n",
    "\n",
    "x_test = test.drop(['demand', 'timeStamp'], axis=1)\n",
    "y_test = test['demand']\n",
    "y_pred_test = fitted_model.predict(x_test)\n",
    "#y_residual_test = y_test - y_pred_test\n",
    "\n",
    "\n",
    "expected = y_train\n",
    "predictions = y_pred_train\n",
    "forecast_errors = [expected[i]-predictions[i] for i in range(len(expected))]\n",
    "#print('Forecast Errors: %s' % forecast_errors)"
   ]
  }
 ],
 "metadata": {
  "kernelspec": {
   "display_name": "Python [conda env:myenv]",
   "language": "python",
   "name": "conda-env-myenv-py"
  },
  "language_info": {
   "codemirror_mode": {
    "name": "ipython",
    "version": 3
   },
   "file_extension": ".py",
   "mimetype": "text/x-python",
   "name": "python",
   "nbconvert_exporter": "python",
   "pygments_lexer": "ipython3",
   "version": "3.6.6"
  }
 },
 "nbformat": 4,
 "nbformat_minor": 2
}
